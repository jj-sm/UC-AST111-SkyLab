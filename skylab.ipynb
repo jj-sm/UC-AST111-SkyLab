{
 "cells": [
  {
   "metadata": {},
   "cell_type": "markdown",
   "source": "# SkyLab Grupo 7",
   "id": "4d2ef608f34881c7"
  },
  {
   "metadata": {},
   "cell_type": "markdown",
   "source": "## 1. Recopilar información de las estrellas",
   "id": "c0a68819dfe786f8"
  },
  {
   "cell_type": "code",
   "id": "initial_id",
   "metadata": {
    "collapsed": true,
    "ExecuteTime": {
     "end_time": "2025-05-13T18:52:17.132131Z",
     "start_time": "2025-05-13T18:52:10.897292Z"
    }
   },
   "source": [
    "from astroquery.simbad import Simbad\n",
    "\n",
    "custom_simbad = Simbad()\n",
    "custom_simbad.add_votable_fields('ra', 'dec')\n",
    "\n",
    "stars = [\"Alpha CMa\", \"Beta CMa\", \"Delta CMa\", \"HIP 33977\", \"Epsilon CMa\", \"Sigma CMa\", \"Eta CMa\"]\n",
    "\n",
    "# Main Query\n",
    "results = custom_simbad.query_objects(stars)\n",
    "print(results[[\"main_id\", \"ra\", \"dec\", \"user_specified_id\"]])\n"
   ],
   "outputs": [
    {
     "name": "stdout",
     "output_type": "stream",
     "text": [
      "  main_id           ra                 dec         user_specified_id\n",
      "                   deg                 deg                          \n",
      "----------- ------------------ ------------------- -----------------\n",
      "  * alf CMa 101.28715533333335  -16.71611586111111       Alpha CMa  \n",
      "  * bet CMa  95.67493896958332 -17.955918708888888       Beta CMa   \n",
      "  * del CMa 107.09785021416667  -26.39319957888889       Delta CMa  \n",
      "* omi02 CMa 105.75613058900544 -23.833293974200288       HIP 33977  \n",
      "  * eps CMa 104.65645315148348 -28.972086157360806       Epsilon CMa\n",
      "  * sig CMa 105.42978350186792 -27.934830340443888       Sigma CMa  \n",
      "  * eta CMa 111.02375950100142 -29.303105508471724       Eta CMa    \n"
     ]
    }
   ],
   "execution_count": 29
  },
  {
   "metadata": {},
   "cell_type": "markdown",
   "source": "## 2. Calcular Distancias Angulares",
   "id": "e212379cbdbb0db9"
  },
  {
   "metadata": {
    "ExecuteTime": {
     "end_time": "2025-05-13T19:16:27.425570Z",
     "start_time": "2025-05-13T19:16:27.416186Z"
    }
   },
   "cell_type": "code",
   "source": [
    "from math import acos, sin, cos, radians, degrees\n",
    "\n",
    "def angular_distance(ra_1_deg: float,\n",
    "                     dec_1_deg: float,\n",
    "                     ra_2_deg: float,\n",
    "                     dec_2_deg: float) -> float:\n",
    "    ra_1, dec_1, ra_2, dec_2 = map(radians, [ra_1_deg, dec_1_deg, ra_2_deg, dec_2_deg])\n",
    "    res = acos((sin(dec_1) * sin(dec_2)) + (cos(dec_1) * cos(dec_2) * cos(ra_1 - ra_2)))\n",
    "    return degrees(res)"
   ],
   "id": "df5f20dfc1d5a654",
   "outputs": [],
   "execution_count": 82
  },
  {
   "metadata": {
    "ExecuteTime": {
     "end_time": "2025-05-13T19:16:58.406840Z",
     "start_time": "2025-05-13T19:16:58.395022Z"
    }
   },
   "cell_type": "code",
   "source": [
    "compare = [['Alpha CMa', 'Epsilon CMa'],\n",
    "            ['Delta CMa', 'Epsilon CMa'],\n",
    "            ['Sigma CMa', 'Epsilon CMa'],\n",
    "            ['Delta CMa', 'Sigma CMa'],\n",
    "            ['Delta CMa', 'HIP 33977'],\n",
    "            ['Delta CMa', 'Eta CMa']\n",
    "           ]\n",
    "\n",
    "ans = []\n",
    "\n",
    "for pair in compare:\n",
    "    star_1 = custom_simbad.query_object(pair[0])\n",
    "    star_2 = custom_simbad.query_object(pair[1])\n",
    "\n",
    "    ra_1 = star_1[\"ra\"].data[0]\n",
    "    dec_1 = star_1[\"dec\"].data[0]\n",
    "\n",
    "    ra_2 = star_2[\"ra\"].data[0]\n",
    "    dec_2 = star_2[\"dec\"].data[0]\n",
    "\n",
    "    distance = angular_distance(ra_1, dec_1, ra_2, dec_2)\n",
    "    ans.append(float(distance))\n",
    "    print(f\"Angular distance between {pair[0]} and {pair[1]}: {distance}\")\n",
    "# print(ans)"
   ],
   "id": "91eb01535f3839e1",
   "outputs": [
    {
     "name": "stdout",
     "output_type": "stream",
     "text": [
      "Angular distance between Alpha CMa and Epsilon CMa: 12.640930815128032\n",
      "Angular distance between Delta CMa and Epsilon CMa: 3.364974264376436\n",
      "Angular distance between Sigma CMa and Epsilon CMa: 1.240225513882492\n",
      "Angular distance between Delta CMa and Sigma CMa: 2.1398274964731963\n",
      "Angular distance between Delta CMa and HIP 33977: 2.833487172605846\n",
      "Angular distance between Delta CMa and Eta CMa: 4.528940607532971\n"
     ]
    }
   ],
   "execution_count": 85
  },
  {
   "metadata": {
    "ExecuteTime": {
     "end_time": "2025-05-14T02:54:45.353114Z",
     "start_time": "2025-05-14T02:54:45.128664Z"
    }
   },
   "cell_type": "code",
   "source": [
    "compare_px = [1232.87, 336.15, 123.12, 214.77, 285.26, 479.03]\n",
    "\n",
    "compare_deg_px = list(zip(ans, compare_px))\n",
    "scale = [deg / px for deg, px in compare_deg_px] # deg/px\n",
    "scale2 = [print(deg / px) for deg, px in compare_deg_px] # deg/px\n",
    "avg_scale = sum(scale) / len(scale)\n",
    "\n",
    "print(f'Scale: {scale} deg/px')\n",
    "print(f'Avg scale: {avg_scale} deg/px')"
   ],
   "id": "15b4aacd96862996",
   "outputs": [
    {
     "name": "stdout",
     "output_type": "stream",
     "text": [
      "0.010253255262215832\n",
      "0.010010335458504941\n",
      "0.010073306642970207\n",
      "0.009963344491657103\n",
      "0.009932998571849701\n",
      "0.00945439869639265\n",
      "Scale: [0.010253255262215832, 0.010010335458504941, 0.010073306642970207, 0.009963344491657103, 0.009932998571849701, 0.00945439869639265] deg/px\n",
      "Avg scale: 0.009947939853931739 deg/px\n"
     ]
    }
   ],
   "execution_count": 127
  },
  {
   "metadata": {
    "ExecuteTime": {
     "end_time": "2025-05-13T19:17:05.578171Z",
     "start_time": "2025-05-13T19:17:05.571352Z"
    }
   },
   "cell_type": "code",
   "source": [
    "def px2deg(px: float, scale: float) -> float:\n",
    "    return px * scale"
   ],
   "id": "af710f787f7f4bc5",
   "outputs": [],
   "execution_count": 87
  },
  {
   "metadata": {},
   "cell_type": "markdown",
   "source": "## Respuesta",
   "id": "211c0de0d3d4e15d"
  },
  {
   "metadata": {
    "ExecuteTime": {
     "end_time": "2025-05-13T19:18:17.490578Z",
     "start_time": "2025-05-13T19:18:17.474405Z"
    }
   },
   "cell_type": "code",
   "source": [
    "from math import ceil\n",
    "\n",
    "px_measurements = [125.93, 127.20, 128.40, 127.14]\n",
    "px_measurements = [ceil(px) for px in px_measurements]\n",
    "avg_movement = sum([px2deg(px, avg_scale) for px in px_measurements]) / len(px_measurements)\n",
    "\n",
    "print(f'Avg movement: {avg_movement} deg')\n"
   ],
   "id": "a49192cafcc4072",
   "outputs": [
    {
     "name": "stdout",
     "output_type": "stream",
     "text": [
      "Avg movement: 1.2708493163397796 deg\n"
     ]
    }
   ],
   "execution_count": 89
  },
  {
   "metadata": {},
   "cell_type": "markdown",
   "source": "### Análisis",
   "id": "e349b7cd7a07a06e"
  },
  {
   "metadata": {
    "ExecuteTime": {
     "end_time": "2025-05-13T19:35:45.388896Z",
     "start_time": "2025-05-13T19:35:45.383567Z"
    }
   },
   "cell_type": "code",
   "source": [
    "def min2minsec(time: float) -> tuple:\n",
    "    minutes = int(time)\n",
    "    seconds = (time - int(time)) * 60\n",
    "    return f'{minutes} min {seconds: .0f} sec'"
   ],
   "id": "f4d5fdfc74ba2797",
   "outputs": [],
   "execution_count": 123
  },
  {
   "metadata": {
    "ExecuteTime": {
     "end_time": "2025-05-14T04:36:31.363912Z",
     "start_time": "2025-05-14T04:36:31.355514Z"
    }
   },
   "cell_type": "code",
   "source": [
    "period = 23 * 60 * 60 + 56 * 60 + 4\n",
    "w_earth = 360 / (period)\n",
    "print(f'Earth width: {w_earth: .5f} deg/sec')"
   ],
   "id": "c5fe21150deffc51",
   "outputs": [
    {
     "name": "stdout",
     "output_type": "stream",
     "text": [
      "Earth width:  0.00418 deg/sec\n"
     ]
    }
   ],
   "execution_count": 136
  },
  {
   "metadata": {
    "ExecuteTime": {
     "end_time": "2025-05-14T04:36:33.517784Z",
     "start_time": "2025-05-14T04:36:33.510313Z"
    }
   },
   "cell_type": "code",
   "source": [
    "shift_time = avg_movement / w_earth\n",
    "error = 39 # 2nd photo 39 seconds late\n",
    "print(f'Shift time: {shift_time: .5f} sec - {error} seg. error')\n",
    "print(f'Shift time: {min2minsec((shift_time - error) / 60)}')"
   ],
   "id": "ababac92a275d44a",
   "outputs": [
    {
     "name": "stdout",
     "output_type": "stream",
     "text": [
      "Shift time:  304.17072 sec - 39 seg. error\n",
      "Shift time: 4 min  25 sec\n"
     ]
    }
   ],
   "execution_count": 137
  }
 ],
 "metadata": {
  "kernelspec": {
   "display_name": "Python 3",
   "language": "python",
   "name": "python3"
  },
  "language_info": {
   "codemirror_mode": {
    "name": "ipython",
    "version": 2
   },
   "file_extension": ".py",
   "mimetype": "text/x-python",
   "name": "python",
   "nbconvert_exporter": "python",
   "pygments_lexer": "ipython2",
   "version": "2.7.6"
  }
 },
 "nbformat": 4,
 "nbformat_minor": 5
}
